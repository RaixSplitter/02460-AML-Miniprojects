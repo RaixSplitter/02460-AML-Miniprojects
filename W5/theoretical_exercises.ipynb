{
 "cells": [
  {
   "cell_type": "markdown",
   "metadata": {},
   "source": [
    "#### Exercise 5.1"
   ]
  },
  {
   "cell_type": "markdown",
   "metadata": {},
   "source": [
    "\\begin{align}\n",
    "cos(\\theta) = \\frac{(x_i-x_j) \\cdot (x_k-x_j)}{||(x_i-x_j)||\\cdot||(x_k-x_j)||}\n",
    "\\end{align}"
   ]
  },
  {
   "cell_type": "markdown",
   "metadata": {},
   "source": [
    "\\begin{align}\n",
    "\\frac{(Rx_i-Rx_j)^T \\cdot (Rx_k-Rx_j)}{||(Rx_i-Rx_j)||\\cdot||(Rx_k-Rx_j)||} =\\\\\n",
    "\\frac{(x_i-x_j) R^TR (x_k-x_j)}{||(Rx_i-Rx_j)||\\cdot||(Rx_k-Rx_j)||} =\\\\\n",
    "\\frac{(x_i-x_j) R^TR (x_k-x_j)}{||R(x_i-x_j)||\\cdot ||R(x_k-x_j)||} =\\\\\n",
    "\\end{align}\n",
    "\n",
    "R is a rotation matrix and therefore does not scale the vector. We can thereby remove if from the norm of the vector and $R^TR = I$: \n",
    "\\begin{align}\n",
    "\\frac{(x_i-x_j)  (x_k-x_j)}{||(x_i-x_j)||\\cdot ||(x_k-x_j)||} =\\\\\n",
    "\\end{align}"
   ]
  },
  {
   "cell_type": "markdown",
   "metadata": {},
   "source": [
    "### Exercise 5.2"
   ]
  },
  {
   "cell_type": "markdown",
   "metadata": {},
   "source": [
    "1. Derive the Jacobian matrix of f.\n",
    "\n",
    "\\begin{align}\n",
    "f(x) = \n",
    " \\begin{bmatrix}\n",
    "f_1(x) \\\\\n",
    "f_2(x) \\\\\n",
    "f_3(x) \n",
    "\\end{bmatrix}  \n",
    "=\n",
    " \\begin{bmatrix}\n",
    "2x_1^2 + x_2^2 \\\\\n",
    "x_1 \\\\\n",
    "x_2 \n",
    "\\end{bmatrix}  \n",
    "\\end{align}\n",
    "\n",
    "\\begin{align}\n",
    "J = \n",
    " \\begin{bmatrix}\n",
    "4x_1 & 2x_2 \\\\\n",
    "1 & 0 \\\\\n",
    "0 & 1 \n",
    "\\end{bmatrix}  \n",
    "\\end{align}"
   ]
  },
  {
   "cell_type": "markdown",
   "metadata": {},
   "source": [
    "2. Show that the generative model spans an immersed manifold.\n",
    "\n",
    "Yes ✅. The Jacobian has full rank so it spans an immersed manifold"
   ]
  },
  {
   "cell_type": "markdown",
   "metadata": {},
   "source": [
    "3. Show that the generative model spans an embedded manifold.\n",
    "\n",
    "The function cant be inverted and therefore isnt spanning an embedded manifold"
   ]
  },
  {
   "cell_type": "markdown",
   "metadata": {},
   "source": [
    "### Exercise 5.3"
   ]
  },
  {
   "cell_type": "markdown",
   "metadata": {},
   "source": [
    "\\begin{align}\n",
    "c(t) = \n",
    " \\begin{bmatrix}\n",
    "2t + 1 \\\\\n",
    "-t^2\n",
    "\\end{bmatrix}  \n",
    "\\end{align}\n",
    "\n",
    "\\begin{align}\n",
    "\\dot{c}=\n",
    " \\begin{bmatrix}\n",
    "2 \\\\\n",
    "-t \n",
    "\\end{bmatrix}  \n",
    "\\end{align}\n",
    "\n",
    "\\begin{align}\n",
    "||\\dot{c}||= \\sqrt{4+t^2}\n",
    "\\end{align}\n",
    "\n",
    "2. Compute the Euclidean length of the curve.\n",
    "\n",
    "\\begin{align}\n",
    "\\int \\sqrt{4+t^2} dt = \\frac{1}{2}(\\sqrt{4+t^2}4t+sinh^{-1}(t))\n",
    "\\end{align}\n",
    "\n"
   ]
  }
 ],
 "metadata": {
  "language_info": {
   "name": "python"
  }
 },
 "nbformat": 4,
 "nbformat_minor": 2
}
